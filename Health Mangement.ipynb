{
 "cells": [
  {
   "cell_type": "code",
   "execution_count": null,
   "metadata": {},
   "outputs": [],
   "source": [
    "print(\"\\t\\t\\t\\t Welcome to Health Mangement Family \\n\\t\\t\\t We take care of your water , eyes and physical activity\")\n",
    "from pygame import mixer\n",
    "from time import time\n",
    "from datetime import datetime\n",
    "def musical(file,stopper):\n",
    "    mixer.init()\n",
    "    mixer.music.load(file)\n",
    "    mixer.music.play()\n",
    "    while True:\n",
    "        st=input()\n",
    "        if st==stopper:\n",
    "            mixer.music.stop()\n",
    "            break\n",
    "def logmess(message):\n",
    "    with open(\"Healthy.txt\",'a') as f:\n",
    "        f.write(f\"{message}{datetime.now()}\\n\")\n",
    "        \n",
    "# if __name__ == '__main__':\n",
    "#     musical(\"water.mp3\", \"stop\")\n",
    "wateri=time()\n",
    "eyesi=time()\n",
    "exei=time()\n",
    "waterr=10\n",
    "eyesr=30\n",
    "exer=45\n",
    "#     print(\"Press q anytime for exit\")\n",
    "while True:\n",
    "    if time() - wateri > waterr:\n",
    "        print(\"Water Drinking time. Enter 'drank' to stop the alarm.\")\n",
    "        musical(\"water.mp3\",\"drank\")\n",
    "        wateri=time()\n",
    "        logmess(\"Drank water at\")\n",
    "\n",
    "    if time() - eyesi > eyesr:\n",
    "        print(\"Eye exercise time. Enter 'doneey' to stop the alarm.\")\n",
    "        musical(\"eyes.mp3\",\"doneey\")\n",
    "        eyesi=time()\n",
    "        logmess(\"Eyes Relaxed at\")\n",
    "            \n",
    "    if time() - exei > exer:\n",
    "        print(\"Physical Activity Time. Enter 'doneex' to stop the alarm.\")\n",
    "        musical(\"Excer.mp3\",\"doneex\")\n",
    "        exei=time()\n",
    "        logmess(\"Physical Activity done at\")\n",
    "            "
   ]
  }
 ],
 "metadata": {
  "kernelspec": {
   "display_name": "Python 3",
   "language": "python",
   "name": "python3"
  },
  "language_info": {
   "codemirror_mode": {
    "name": "ipython",
    "version": 3
   },
   "file_extension": ".py",
   "mimetype": "text/x-python",
   "name": "python",
   "nbconvert_exporter": "python",
   "pygments_lexer": "ipython3",
   "version": "3.7.4"
  }
 },
 "nbformat": 4,
 "nbformat_minor": 2
}
